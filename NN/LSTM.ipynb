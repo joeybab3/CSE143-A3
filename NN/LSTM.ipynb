{
  "cells": [
    {
      "cell_type": "markdown",
      "metadata": {
        "id": "v-LQPoHkiNk-"
      },
      "source": [
        "**Chapter 16 – Natural Language Processing with RNNs and Attention**"
      ]
    },
    {
      "cell_type": "markdown",
      "metadata": {
        "id": "Fog6k887iNk_"
      },
      "source": [
        "_This notebook contains all the sample code in chapter 16._"
      ]
    },
    {
      "cell_type": "markdown",
      "metadata": {
        "id": "bPuwjTNJiNk_"
      },
      "source": [
        "<table align=\"left\">\n",
        "  <td>\n",
        "    <a target=\"_blank\" href=\"https://colab.research.google.com/github/jflanigan/handson-ml2/blob/master/16_nlp_with_rnns_and_attention.ipynb\"><img src=\"https://www.tensorflow.org/images/colab_logo_32px.png\" />Run in Google Colab</a>\n",
        "  </td>\n",
        "</table>"
      ]
    },
    {
      "cell_type": "markdown",
      "metadata": {
        "id": "_KWGPW_xiNk_"
      },
      "source": [
        "# Setup"
      ]
    },
    {
      "cell_type": "markdown",
      "metadata": {
        "id": "mz44ljnniNk_"
      },
      "source": [
        "First, let's import a few common modules, ensure MatplotLib plots figures inline and prepare a function to save the figures. We also check that Python 3.5 or later is installed (although Python 2.x may work, it is deprecated so we strongly recommend you use Python 3 instead), as well as Scikit-Learn ≥0.20 and TensorFlow ≥2.0."
      ]
    },
    {
      "cell_type": "code",
      "execution_count": null,
      "metadata": {
        "id": "rrfn2aSMiNlA",
        "colab": {
          "base_uri": "https://localhost:8080/"
        },
        "outputId": "6c098b57-2d3c-4f5e-af93-171b4230b511"
      },
      "outputs": [
        {
          "output_type": "stream",
          "name": "stdout",
          "text": [
            "No GPU was detected. LSTMs and CNNs can be very slow without a GPU.\n",
            "Go to Runtime > Change runtime and select a GPU hardware accelerator.\n"
          ]
        }
      ],
      "source": [
        "# Python ≥3.5 is required\n",
        "import sys\n",
        "assert sys.version_info >= (3, 5)\n",
        "\n",
        "# Scikit-Learn ≥0.20 is required\n",
        "import sklearn\n",
        "assert sklearn.__version__ >= \"0.20\"\n",
        "\n",
        "try:\n",
        "    # %tensorflow_version only exists in Colab.\n",
        "    %tensorflow_version 2.x\n",
        "    !pip install -q -U tensorflow-addons\n",
        "    IS_COLAB = True\n",
        "except Exception:\n",
        "    IS_COLAB = False\n",
        "\n",
        "# TensorFlow ≥2.0 is required\n",
        "import tensorflow as tf\n",
        "from tensorflow import keras\n",
        "assert tf.__version__ >= \"2.0\"\n",
        "\n",
        "if not tf.test.is_gpu_available():\n",
        "    print(\"No GPU was detected. LSTMs and CNNs can be very slow without a GPU.\")\n",
        "    if IS_COLAB:\n",
        "        print(\"Go to Runtime > Change runtime and select a GPU hardware accelerator.\")\n",
        "\n",
        "# Common imports\n",
        "import numpy as np\n",
        "import os\n",
        "\n",
        "# to make this notebook's output stable across runs\n",
        "np.random.seed(42)\n",
        "tf.random.set_seed(42)\n",
        "\n",
        "# To plot pretty figures\n",
        "%matplotlib inline\n",
        "import matplotlib as mpl\n",
        "import matplotlib.pyplot as plt\n",
        "mpl.rc('axes', labelsize=14)\n",
        "mpl.rc('xtick', labelsize=12)\n",
        "mpl.rc('ytick', labelsize=12)\n",
        "\n",
        "# Where to save the figures\n",
        "PROJECT_ROOT_DIR = \".\"\n",
        "CHAPTER_ID = \"nlp\"\n",
        "IMAGES_PATH = os.path.join(PROJECT_ROOT_DIR, \"images\", CHAPTER_ID)\n",
        "os.makedirs(IMAGES_PATH, exist_ok=True)\n",
        "\n",
        "def save_fig(fig_id, tight_layout=True, fig_extension=\"png\", resolution=300):\n",
        "    path = os.path.join(IMAGES_PATH, fig_id + \".\" + fig_extension)\n",
        "    print(\"Saving figure\", fig_id)\n",
        "    if tight_layout:\n",
        "        plt.tight_layout()\n",
        "    plt.savefig(path, format=fig_extension, dpi=resolution)"
      ]
    },
    {
      "cell_type": "markdown",
      "metadata": {
        "id": "NVYJXfoAiNlA"
      },
      "source": [
        "# Sentiment Analysis"
      ]
    },
    {
      "cell_type": "code",
      "execution_count": null,
      "metadata": {
        "id": "L9zYIk9wiNlA"
      },
      "outputs": [],
      "source": [
        "tf.random.set_seed(42)"
      ]
    },
    {
      "cell_type": "markdown",
      "metadata": {
        "id": "lpitmwcAiNlA"
      },
      "source": [
        "You can load the IMDB dataset easily:"
      ]
    },
    {
      "cell_type": "code",
      "execution_count": null,
      "metadata": {
        "id": "rF22gErwiNlB"
      },
      "outputs": [],
      "source": [
        "(X_train, y_test), (X_valid, y_test) = keras.datasets.imdb.load_data()"
      ]
    },
    {
      "cell_type": "code",
      "execution_count": null,
      "metadata": {
        "id": "OzGwF-TbiNlB",
        "outputId": "1f20186d-7cfb-42a9-b385-c92f3d63bee1",
        "colab": {
          "base_uri": "https://localhost:8080/"
        }
      },
      "outputs": [
        {
          "output_type": "execute_result",
          "data": {
            "text/plain": [
              "[1, 14, 22, 16, 43, 530, 973, 1622, 1385, 65]"
            ]
          },
          "metadata": {},
          "execution_count": 92
        }
      ],
      "source": [
        "X_train[0][:10]"
      ]
    },
    {
      "cell_type": "code",
      "execution_count": null,
      "metadata": {
        "id": "FbsaAlOqiNlB",
        "outputId": "0f1ef157-96c9-4a0d-fa16-1fc63fdbeecb",
        "colab": {
          "base_uri": "https://localhost:8080/",
          "height": 35
        }
      },
      "outputs": [
        {
          "output_type": "execute_result",
          "data": {
            "text/plain": [
              "'<sos> this film was just brilliant casting location scenery story'"
            ],
            "application/vnd.google.colaboratory.intrinsic+json": {
              "type": "string"
            }
          },
          "metadata": {},
          "execution_count": 93
        }
      ],
      "source": [
        "word_index = keras.datasets.imdb.get_word_index()\n",
        "id_to_word = {id_ + 3: word for word, id_ in word_index.items()}\n",
        "for id_, token in enumerate((\"<pad>\", \"<sos>\", \"<unk>\")):\n",
        "    id_to_word[id_] = token\n",
        "\" \".join([id_to_word[id_] for id_ in X_train[0][:10]])"
      ]
    },
    {
      "cell_type": "code",
      "execution_count": null,
      "metadata": {
        "id": "h8gBW72qiNlC"
      },
      "outputs": [],
      "source": [
        "import tensorflow_datasets as tfds\n",
        "\n",
        "datasets, info = tfds.load(\"imdb_reviews\", as_supervised=True, with_info=True)"
      ]
    },
    {
      "cell_type": "code",
      "execution_count": null,
      "metadata": {
        "id": "Co1PvfqhiNlC",
        "outputId": "c872415f-ea9f-4471-821f-2ff9ce3bed43",
        "colab": {
          "base_uri": "https://localhost:8080/"
        }
      },
      "outputs": [
        {
          "output_type": "execute_result",
          "data": {
            "text/plain": [
              "dict_keys(['test', 'train', 'unsupervised'])"
            ]
          },
          "metadata": {},
          "execution_count": 95
        }
      ],
      "source": [
        "datasets.keys()"
      ]
    },
    {
      "cell_type": "code",
      "execution_count": null,
      "metadata": {
        "id": "XQPnx3_DiNlC"
      },
      "outputs": [],
      "source": [
        "train_size = info.splits[\"train\"].num_examples\n",
        "test_size = info.splits[\"test\"].num_examples"
      ]
    },
    {
      "cell_type": "code",
      "execution_count": null,
      "metadata": {
        "id": "d-kCIL0ZiNlC",
        "outputId": "722cb6e6-b129-4c9e-8682-e32e3205b49f",
        "colab": {
          "base_uri": "https://localhost:8080/"
        }
      },
      "outputs": [
        {
          "output_type": "execute_result",
          "data": {
            "text/plain": [
              "(25000, 25000)"
            ]
          },
          "metadata": {},
          "execution_count": 97
        }
      ],
      "source": [
        "train_size, test_size"
      ]
    },
    {
      "cell_type": "code",
      "execution_count": null,
      "metadata": {
        "id": "ieKjaJn-iNlC",
        "outputId": "981f32f0-f1ae-4229-c2a8-c769e16516ba",
        "colab": {
          "base_uri": "https://localhost:8080/"
        }
      },
      "outputs": [
        {
          "output_type": "stream",
          "name": "stdout",
          "text": [
            "Review: This was an absolutely terrible movie. Don't be lured in by Christopher Walken or Michael Ironside. Both are great actors, but this must simply be their worst role in history. Even their great acting  ...\n",
            "Label: 0 = Negative\n",
            "\n",
            "Review: I have been known to fall asleep during films, but this is usually due to a combination of things including, really tired, being warm and comfortable on the sette and having just eaten a lot. However  ...\n",
            "Label: 0 = Negative\n",
            "\n"
          ]
        }
      ],
      "source": [
        "for X_batch, y_batch in datasets[\"train\"].batch(2).take(1):\n",
        "    for review, label in zip(X_batch.numpy(), y_batch.numpy()):\n",
        "        print(\"Review:\", review.decode(\"utf-8\")[:200], \"...\")\n",
        "        print(\"Label:\", label, \"= Positive\" if label else \"= Negative\")\n",
        "        print()"
      ]
    },
    {
      "cell_type": "code",
      "execution_count": null,
      "metadata": {
        "id": "OosrJpXpiNlC"
      },
      "outputs": [],
      "source": [
        "def preprocess(X_batch, y_batch):\n",
        "    X_batch = tf.strings.substr(X_batch, 0, 2000)\n",
        "    X_batch = tf.strings.regex_replace(X_batch, rb\"<br\\s*/?>\", b\" \")\n",
        "    X_batch = tf.strings.regex_replace(X_batch, b\"[^a-zA-Z']\", b\" \")\n",
        "    X_batch = tf.strings.split(X_batch)\n",
        "    return X_batch.to_tensor(default_value=b\"<pad>\"), y_batch"
      ]
    },
    {
      "cell_type": "code",
      "execution_count": null,
      "metadata": {
        "id": "89dcC49WiNlD",
        "outputId": "ca928b85-74c9-4a26-d8a1-d8e565a85eff",
        "colab": {
          "base_uri": "https://localhost:8080/"
        }
      },
      "outputs": [
        {
          "output_type": "execute_result",
          "data": {
            "text/plain": [
              "(<tf.Tensor: shape=(2, 117), dtype=string, numpy=\n",
              " array([[b'This', b'was', b'an', b'absolutely', b'terrible', b'movie',\n",
              "         b\"Don't\", b'be', b'lured', b'in', b'by', b'Christopher',\n",
              "         b'Walken', b'or', b'Michael', b'Ironside', b'Both', b'are',\n",
              "         b'great', b'actors', b'but', b'this', b'must', b'simply', b'be',\n",
              "         b'their', b'worst', b'role', b'in', b'history', b'Even',\n",
              "         b'their', b'great', b'acting', b'could', b'not', b'redeem',\n",
              "         b'this', b\"movie's\", b'ridiculous', b'storyline', b'This',\n",
              "         b'movie', b'is', b'an', b'early', b'nineties', b'US',\n",
              "         b'propaganda', b'piece', b'The', b'most', b'pathetic', b'scenes',\n",
              "         b'were', b'those', b'when', b'the', b'Columbian', b'rebels',\n",
              "         b'were', b'making', b'their', b'cases', b'for', b'revolutions',\n",
              "         b'Maria', b'Conchita', b'Alonso', b'appeared', b'phony', b'and',\n",
              "         b'her', b'pseudo', b'love', b'affair', b'with', b'Walken',\n",
              "         b'was', b'nothing', b'but', b'a', b'pathetic', b'emotional',\n",
              "         b'plug', b'in', b'a', b'movie', b'that', b'was', b'devoid',\n",
              "         b'of', b'any', b'real', b'meaning', b'I', b'am', b'disappointed',\n",
              "         b'that', b'there', b'are', b'movies', b'like', b'this',\n",
              "         b'ruining', b\"actor's\", b'like', b'Christopher', b\"Walken's\",\n",
              "         b'good', b'name', b'I', b'could', b'barely', b'sit', b'through',\n",
              "         b'it'],\n",
              "        [b'I', b'have', b'been', b'known', b'to', b'fall', b'asleep',\n",
              "         b'during', b'films', b'but', b'this', b'is', b'usually', b'due',\n",
              "         b'to', b'a', b'combination', b'of', b'things', b'including',\n",
              "         b'really', b'tired', b'being', b'warm', b'and', b'comfortable',\n",
              "         b'on', b'the', b'sette', b'and', b'having', b'just', b'eaten',\n",
              "         b'a', b'lot', b'However', b'on', b'this', b'occasion', b'I',\n",
              "         b'fell', b'asleep', b'because', b'the', b'film', b'was',\n",
              "         b'rubbish', b'The', b'plot', b'development', b'was', b'constant',\n",
              "         b'Constantly', b'slow', b'and', b'boring', b'Things', b'seemed',\n",
              "         b'to', b'happen', b'but', b'with', b'no', b'explanation', b'of',\n",
              "         b'what', b'was', b'causing', b'them', b'or', b'why', b'I',\n",
              "         b'admit', b'I', b'may', b'have', b'missed', b'part', b'of',\n",
              "         b'the', b'film', b'but', b'i', b'watched', b'the', b'majority',\n",
              "         b'of', b'it', b'and', b'everything', b'just', b'seemed', b'to',\n",
              "         b'happen', b'of', b'its', b'own', b'accord', b'without', b'any',\n",
              "         b'real', b'concern', b'for', b'anything', b'else', b'I', b'cant',\n",
              "         b'recommend', b'this', b'film', b'at', b'all', b'<pad>',\n",
              "         b'<pad>', b'<pad>', b'<pad>', b'<pad>']], dtype=object)>,\n",
              " <tf.Tensor: shape=(2,), dtype=int64, numpy=array([0, 0])>)"
            ]
          },
          "metadata": {},
          "execution_count": 100
        }
      ],
      "source": [
        "preprocess(X_batch, y_batch)"
      ]
    },
    {
      "cell_type": "code",
      "execution_count": null,
      "metadata": {
        "id": "sX6djHF8iNlD"
      },
      "outputs": [],
      "source": [
        "from collections import Counter\n",
        "\n",
        "vocabulary = Counter()\n",
        "for X_batch, y_batch in datasets[\"train\"].batch(32).map(preprocess):\n",
        "    for review in X_batch:\n",
        "        vocabulary.update(list(review.numpy()))"
      ]
    },
    {
      "cell_type": "code",
      "execution_count": null,
      "metadata": {
        "id": "5sLat802iNlD",
        "outputId": "501485a1-75bf-44e2-e0c5-dde61de4ba2a",
        "colab": {
          "base_uri": "https://localhost:8080/"
        }
      },
      "outputs": [
        {
          "output_type": "execute_result",
          "data": {
            "text/plain": [
              "[(b'<pad>', 4150538), (b'the', 246519), (b'a', 135229)]"
            ]
          },
          "metadata": {},
          "execution_count": 102
        }
      ],
      "source": [
        "vocabulary.most_common()[:3]"
      ]
    },
    {
      "cell_type": "code",
      "execution_count": null,
      "metadata": {
        "id": "N4u1HeGhiNlD",
        "outputId": "3fdc41d4-aa1e-4d99-8ea6-3ecaae6e1852",
        "colab": {
          "base_uri": "https://localhost:8080/"
        }
      },
      "outputs": [
        {
          "output_type": "execute_result",
          "data": {
            "text/plain": [
              "98798"
            ]
          },
          "metadata": {},
          "execution_count": 103
        }
      ],
      "source": [
        "len(vocabulary)"
      ]
    },
    {
      "cell_type": "code",
      "execution_count": null,
      "metadata": {
        "id": "PGR5k1ZMiNlD"
      },
      "outputs": [],
      "source": [
        "vocab_size = 10000\n",
        "truncated_vocabulary = [\n",
        "    word for word, count in vocabulary.most_common()[:vocab_size]]"
      ]
    },
    {
      "cell_type": "code",
      "execution_count": null,
      "metadata": {
        "id": "KxlLD-pIiNlE",
        "outputId": "e86b8d94-da69-4249-833a-cf0f2d0a704d",
        "colab": {
          "base_uri": "https://localhost:8080/"
        }
      },
      "outputs": [
        {
          "output_type": "stream",
          "name": "stdout",
          "text": [
            "44\n",
            "13\n",
            "12\n",
            "10000\n"
          ]
        }
      ],
      "source": [
        "word_to_id = {word: index for index, word in enumerate(truncated_vocabulary)}\n",
        "for word in b\"This movie was faaaaaantastic\".split():\n",
        "    print(word_to_id.get(word) or vocab_size)"
      ]
    },
    {
      "cell_type": "code",
      "execution_count": null,
      "metadata": {
        "id": "qJWIHnu8iNlE"
      },
      "outputs": [],
      "source": [
        "words = tf.constant(truncated_vocabulary)\n",
        "word_ids = tf.range(len(truncated_vocabulary), dtype=tf.int64)\n",
        "vocab_init = tf.lookup.KeyValueTensorInitializer(words, word_ids)\n",
        "num_oov_buckets = 1000\n",
        "table = tf.lookup.StaticVocabularyTable(vocab_init, num_oov_buckets)"
      ]
    },
    {
      "cell_type": "code",
      "execution_count": null,
      "metadata": {
        "id": "kpCWn__giNlE",
        "outputId": "0c85834f-98e0-4f19-e3f8-93f3aadf1cea",
        "colab": {
          "base_uri": "https://localhost:8080/"
        }
      },
      "outputs": [
        {
          "output_type": "execute_result",
          "data": {
            "text/plain": [
              "<tf.Tensor: shape=(1, 4), dtype=int64, numpy=array([[   44,    13,    12, 10053]])>"
            ]
          },
          "metadata": {},
          "execution_count": 107
        }
      ],
      "source": [
        "table.lookup(tf.constant([b\"This movie was faaaaaantastic\".split()]))"
      ]
    },
    {
      "cell_type": "code",
      "execution_count": null,
      "metadata": {
        "id": "_cUWaxIxiNlE"
      },
      "outputs": [],
      "source": [
        "def encode_words(X_batch, y_batch):\n",
        "    return table.lookup(X_batch), y_batch\n",
        "\n",
        "train_set = datasets[\"train\"].repeat().batch(32).map(preprocess)\n",
        "train_set = train_set.map(encode_words).prefetch(1)"
      ]
    },
    {
      "cell_type": "code",
      "execution_count": null,
      "metadata": {
        "id": "P7JAZTMPiNlE",
        "outputId": "866545d3-9c0b-42be-a303-3bd9dfe2b134",
        "colab": {
          "base_uri": "https://localhost:8080/"
        }
      },
      "outputs": [
        {
          "output_type": "stream",
          "name": "stdout",
          "text": [
            "tf.Tensor(\n",
            "[[  44   12   32 ...    0    0    0]\n",
            " [   8   23   75 ...    0    0    0]\n",
            " [4608 6500    1 ...    0    0    0]\n",
            " ...\n",
            " [  44   13  118 ...    0    0    0]\n",
            " [2025 4200  491 ...    0    0    0]\n",
            " [3737 6921    8 ...    0    0    0]], shape=(32, 357), dtype=int64)\n",
            "tf.Tensor([0 0 0 1 1 1 0 0 0 0 0 1 1 0 1 0 1 1 1 0 1 1 1 1 1 0 0 0 1 0 0 0], shape=(32,), dtype=int64)\n"
          ]
        }
      ],
      "source": [
        "for X_batch, y_batch in train_set.take(1):\n",
        "    print(X_batch)\n",
        "    print(y_batch)"
      ]
    },
    {
      "cell_type": "code",
      "execution_count": null,
      "metadata": {
        "id": "zHITFdBKiNlE",
        "outputId": "87101f69-6c29-4077-9364-717c5af459d3",
        "colab": {
          "base_uri": "https://localhost:8080/"
        }
      },
      "outputs": [
        {
          "output_type": "stream",
          "name": "stdout",
          "text": [
            "Epoch 1/20\n",
            "781/781 [==============================] - 123s 154ms/step - loss: 0.6933 - accuracy: 0.4949\n",
            "Epoch 2/20\n",
            "781/781 [==============================] - 117s 150ms/step - loss: 0.6932 - accuracy: 0.5033\n",
            "Epoch 3/20\n",
            "781/781 [==============================] - 118s 151ms/step - loss: 0.6936 - accuracy: 0.5040\n",
            "Epoch 4/20\n",
            "781/781 [==============================] - 118s 152ms/step - loss: 0.6927 - accuracy: 0.5064\n",
            "Epoch 5/20\n",
            "781/781 [==============================] - 118s 151ms/step - loss: 0.6880 - accuracy: 0.5152\n",
            "Epoch 6/20\n",
            "781/781 [==============================] - 118s 151ms/step - loss: 0.6591 - accuracy: 0.5946\n",
            "Epoch 7/20\n",
            "781/781 [==============================] - 118s 152ms/step - loss: 0.6084 - accuracy: 0.6864\n",
            "Epoch 8/20\n",
            "781/781 [==============================] - 118s 151ms/step - loss: 0.6555 - accuracy: 0.5801\n",
            "Epoch 9/20\n",
            "781/781 [==============================] - 120s 153ms/step - loss: 0.6744 - accuracy: 0.5400\n",
            "Epoch 10/20\n",
            "781/781 [==============================] - 121s 155ms/step - loss: 0.6401 - accuracy: 0.6214\n",
            "Epoch 11/20\n",
            "781/781 [==============================] - 122s 156ms/step - loss: 0.5800 - accuracy: 0.7157\n",
            "Epoch 12/20\n",
            "781/781 [==============================] - 123s 157ms/step - loss: 0.6525 - accuracy: 0.5889\n",
            "Epoch 13/20\n",
            "781/781 [==============================] - 122s 156ms/step - loss: 0.5803 - accuracy: 0.7139\n",
            "Epoch 14/20\n",
            "781/781 [==============================] - 121s 156ms/step - loss: 0.5494 - accuracy: 0.7558\n",
            "Epoch 15/20\n",
            "781/781 [==============================] - 122s 156ms/step - loss: 0.5511 - accuracy: 0.7526\n",
            "Epoch 16/20\n",
            "781/781 [==============================] - 122s 156ms/step - loss: 0.6221 - accuracy: 0.6414\n",
            "Epoch 17/20\n",
            "781/781 [==============================] - 122s 156ms/step - loss: 0.5632 - accuracy: 0.7312\n",
            "Epoch 18/20\n",
            "781/781 [==============================] - 122s 156ms/step - loss: 0.5396 - accuracy: 0.7605\n",
            "Epoch 19/20\n",
            "781/781 [==============================] - 122s 156ms/step - loss: 0.5503 - accuracy: 0.7468\n",
            "Epoch 20/20\n",
            "781/781 [==============================] - 123s 157ms/step - loss: 0.5150 - accuracy: 0.7792\n"
          ]
        }
      ],
      "source": [
        "embed_size = 16\n",
        "model = keras.models.Sequential([\n",
        "    keras.layers.Embedding(vocab_size+num_oov_buckets, embed_size),\n",
        "    keras.layers.LSTM(16, activation='tanh', dropout=0.5),\n",
        "    keras.layers.Dense(1, activation='sigmoid')\n",
        "])\n",
        "model.compile(loss=\"binary_crossentropy\", optimizer=\"adam\", metrics=[\"accuracy\"])\n",
        "history = model.fit(train_set, steps_per_epoch=train_size // 32, epochs=20)"
      ]
    },
    {
      "cell_type": "code",
      "source": [
        "test_set = datasets[\"test\"].batch(32).map(preprocess)\n",
        "test_set = test_set.map(encode_words).prefetch(1)\n",
        "\n",
        "train_set = datasets[\"train\"].batch(32).map(preprocess)\n",
        "train_set = train_set.map(encode_words).prefetch(1)\n",
        "\n",
        "model.evaluate(test_set)\n",
        "model.evaluate(train_set)"
      ],
      "metadata": {
        "colab": {
          "base_uri": "https://localhost:8080/"
        },
        "id": "cr-XGiDe0d3k",
        "outputId": "2ca1d67a-1196-4911-91d1-7bdf82dfe054"
      },
      "execution_count": null,
      "outputs": [
        {
          "output_type": "stream",
          "name": "stdout",
          "text": [
            "782/782 [==============================] - 26s 32ms/step - loss: 0.5615 - accuracy: 0.7530\n",
            "782/782 [==============================] - 25s 32ms/step - loss: 0.4911 - accuracy: 0.7956\n"
          ]
        },
        {
          "output_type": "execute_result",
          "data": {
            "text/plain": [
              "[0.49114444851875305, 0.7955600023269653]"
            ]
          },
          "metadata": {},
          "execution_count": 111
        }
      ]
    },
    {
      "cell_type": "code",
      "source": [
        "plt.plot(history.history['accuracy'], label='accuracy')\n",
        "plt.plot(history.history['loss'], label='loss')\n",
        "plt.legend(loc=\"center right\")\n",
        "plt.title('LSTM Model')\n",
        "plt.ylabel('Loss & Accuracy')\n",
        "plt.xlabel('Epoch')\n",
        "plt.show()\n"
      ],
      "metadata": {
        "colab": {
          "base_uri": "https://localhost:8080/",
          "height": 302
        },
        "id": "VogJtFfmKlbp",
        "outputId": "256b8f77-1b5a-4dc1-ce6c-65ccbf8033f7"
      },
      "execution_count": null,
      "outputs": [
        {
          "output_type": "display_data",
          "data": {
            "text/plain": [
              "<Figure size 432x288 with 1 Axes>"
            ],
            "image/png": "[encoded data removed]"
          },
          "metadata": {
            "needs_background": "light"
          }
        }
      ]
    }
  ],
  "metadata": {
    "kernelspec": {
      "display_name": "Python 3",
      "language": "python",
      "name": "python3"
    },
    "language_info": {
      "codemirror_mode": {
        "name": "ipython",
        "version": 3
      },
      "file_extension": ".py",
      "mimetype": "text/x-python",
      "name": "python",
      "nbconvert_exporter": "python",
      "pygments_lexer": "ipython3",
      "version": "3.7.3"
    },
    "nav_menu": {},
    "toc": {
      "navigate_menu": true,
      "number_sections": true,
      "sideBar": true,
      "threshold": 6,
      "toc_cell": false,
      "toc_section_display": "block",
      "toc_window_display": false
    },
    "colab": {
      "name": "LSTM.ipynb",
      "provenance": [],
      "collapsed_sections": []
    }
  },
  "nbformat": 4,
  "nbformat_minor": 0
}